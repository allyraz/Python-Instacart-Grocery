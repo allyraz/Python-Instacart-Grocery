{
 "cells": [
  {
   "cell_type": "markdown",
   "id": "1df4103d",
   "metadata": {},
   "source": [
    "### Table of Contents"
   ]
  },
  {
   "cell_type": "markdown",
   "id": "e4182105",
   "metadata": {},
   "source": [
    "1. Importing libraries and File\n",
    "2. Treatment of Personally Identifiable Information (PII)\n",
    "3. Creating Regional Segmentation\n",
    "4. Developing an 'Active' list of customers\n",
    "5. Creating Customer Profiles\n",
    "6. Profile visualizations\n",
    "    6a. Exploratory Analysis on Profiles\n",
    "7. Aggregate Values on Price and Frequency\n",
    "8. Exploratory Analysis on Profiles across Region & Department\n",
    "9. Other Required Charts"
   ]
  },
  {
   "cell_type": "markdown",
   "id": "6ef348da",
   "metadata": {},
   "source": [
    "### Step 1. Importing Libraries & Files"
   ]
  },
  {
   "cell_type": "code",
   "execution_count": null,
   "id": "774dd15b",
   "metadata": {},
   "outputs": [],
   "source": [
    "import pandas as pd\n",
    "import numpy as np\n",
    "import os"
   ]
  },
  {
   "cell_type": "code",
   "execution_count": null,
   "id": "a507d9a1",
   "metadata": {},
   "outputs": [],
   "source": [
    "path = r\"C:\\Users\\Azalia\\Documents\\Projects\\Self-Study\\CareerFoundry\\Instacart Analysis\""
   ]
  },
  {
   "cell_type": "code",
   "execution_count": null,
   "id": "9af6dce7",
   "metadata": {},
   "outputs": [],
   "source": [
    "df_ord_prod_cust = pd.read_pickle(os.path.join(path,'02 Data', 'Prepared Data', 'ord_prod_cust2.pkl' ))"
   ]
  },
  {
   "cell_type": "code",
   "execution_count": null,
   "id": "24044330",
   "metadata": {},
   "outputs": [],
   "source": [
    "df_ord_prod_cust.shape"
   ]
  },
  {
   "cell_type": "code",
   "execution_count": null,
   "id": "7e25afbe",
   "metadata": {},
   "outputs": [],
   "source": [
    "# quick cleanup\n",
    "df_ord_prod_cust = df_ord_prod_cust.drop(columns=['_merge'])"
   ]
  },
  {
   "cell_type": "code",
   "execution_count": null,
   "id": "e5e7d12a",
   "metadata": {},
   "outputs": [],
   "source": [
    "df_ord_prod_cust.describe()"
   ]
  },
  {
   "cell_type": "code",
   "execution_count": null,
   "id": "c3197e6a",
   "metadata": {},
   "outputs": [],
   "source": [
    "df_ord_prod_cust.info()"
   ]
  },
  {
   "cell_type": "markdown",
   "id": "c831a782",
   "metadata": {},
   "source": [
    "### Step 2 Identifying PII information"
   ]
  },
  {
   "cell_type": "markdown",
   "id": "7199f0a3",
   "metadata": {},
   "source": [
    "Identified PII columns: first_name, last_name. Propose to drop these columns."
   ]
  },
  {
   "cell_type": "code",
   "execution_count": null,
   "id": "8358067f",
   "metadata": {},
   "outputs": [],
   "source": [
    "# drop PII columns\n",
    "df_ord_prod_cust_PIIdel = df_ord_prod_cust.drop(columns = ['first_name','last_name'])"
   ]
  },
  {
   "cell_type": "code",
   "execution_count": null,
   "id": "cf3d9ce4",
   "metadata": {},
   "outputs": [],
   "source": [
    "df_ord_prod_cust_PIIdel.info()"
   ]
  },
  {
   "cell_type": "markdown",
   "id": "d7a5c4cb",
   "metadata": {},
   "source": [
    "### Step 3 Regional Segmentation"
   ]
  },
  {
   "cell_type": "code",
   "execution_count": null,
   "id": "8a9ca970",
   "metadata": {},
   "outputs": [],
   "source": [
    "# Creating new region column by flag\n",
    "results = []\n",
    "\n",
    "for value in df_ord_prod_cust_PIIdel['state']:\n",
    "    if value in ['Maine', 'New Hampshire', 'Vermont', 'Massachusetts', 'Rhode Island', 'Connecticut', 'New York', 'Pennsylvania', 'New Jersey']:\n",
    "        results.append('Northeast')\n",
    "    elif value in ['Wisconsin', 'Michigan', 'Illinois', 'Indiana', 'Ohio', 'North Dakota', 'South Dakota', 'Nebraska', 'Kansas', 'Minnesota', 'Iowa', 'Missouri']:\n",
    "        results.append('Midwest')\n",
    "    elif value in ['Delaware', 'Maryland', 'District of Columbia', 'Virginia', 'West Virginia', 'North Carolina', 'South Carolina', 'Georgia', 'Florida', 'Kentucky', 'Tennessee', 'Mississippi', 'Alabama', 'Oklahoma', 'Texas', 'Arkansas', 'Louisiana']:\n",
    "        results.append('South')\n",
    "    elif value in ['Idaho', 'Montana', 'Wyoming', 'Nevada', 'Utah', 'Colorado', 'Arizona', 'New Mexico', 'Alaska', 'Washington', 'Oregon', 'California', 'Hawaii']:\n",
    "        results.append('West')\n",
    "    else:\n",
    "        results.append('missing region')"
   ]
  },
  {
   "cell_type": "code",
   "execution_count": null,
   "id": "941aec0c",
   "metadata": {},
   "outputs": [],
   "source": [
    "# creating a new column in df for region\n",
    "df_ord_prod_cust_PIIdel['region'] = results"
   ]
  },
  {
   "cell_type": "code",
   "execution_count": null,
   "id": "66c1eba8",
   "metadata": {},
   "outputs": [],
   "source": [
    "df_ord_prod_cust_PIIdel.head()"
   ]
  },
  {
   "cell_type": "code",
   "execution_count": null,
   "id": "336cbde2",
   "metadata": {},
   "outputs": [],
   "source": [
    "df_ord_prod_cust_PIIdel['region'].value_counts(dropna=False)"
   ]
  },
  {
   "cell_type": "code",
   "execution_count": null,
   "id": "8a8dbd4b",
   "metadata": {},
   "outputs": [],
   "source": [
    "# Changing datatype to 'category'\n",
    "df_ord_prod_cust_PIIdel['region']=df_ord_prod_cust_PIIdel['region'].astype('category')"
   ]
  },
  {
   "cell_type": "code",
   "execution_count": null,
   "id": "adb4b80e",
   "metadata": {},
   "outputs": [],
   "source": [
    "df_ord_prod_cust_PIIdel.info()"
   ]
  },
  {
   "cell_type": "code",
   "execution_count": null,
   "id": "609fe5e1",
   "metadata": {},
   "outputs": [],
   "source": [
    "# checking spending habits using crosstabs\n",
    "crosstab_spend = pd.crosstab(df_ord_prod_cust_PIIdel['region'],df_ord_prod_cust_PIIdel['spending_flag'])"
   ]
  },
  {
   "cell_type": "code",
   "execution_count": null,
   "id": "27db9f7a",
   "metadata": {
    "scrolled": true
   },
   "outputs": [],
   "source": [
    "crosstab_spend"
   ]
  },
  {
   "cell_type": "markdown",
   "id": "d27fea88",
   "metadata": {},
   "source": [
    "Overall, there are more low spenders than high spenders in all the region"
   ]
  },
  {
   "cell_type": "markdown",
   "id": "adb42143",
   "metadata": {},
   "source": [
    "### Step 4 Active flag"
   ]
  },
  {
   "cell_type": "code",
   "execution_count": null,
   "id": "a2ae0086",
   "metadata": {},
   "outputs": [],
   "source": [
    "# creating active flag using loc\n",
    "df_ord_prod_cust_PIIdel.loc[df_ord_prod_cust_PIIdel['max_order']<5,'active_flag'] = 'not active'\n",
    "df_ord_prod_cust_PIIdel.loc[df_ord_prod_cust_PIIdel['max_order']>=5,'active_flag'] = 'active'"
   ]
  },
  {
   "cell_type": "code",
   "execution_count": null,
   "id": "8481323e",
   "metadata": {},
   "outputs": [],
   "source": [
    "df_ord_prod_cust_PIIdel['active_flag'].value_counts(dropna = False)"
   ]
  },
  {
   "cell_type": "code",
   "execution_count": null,
   "id": "5b25b14d",
   "metadata": {},
   "outputs": [],
   "source": [
    "pd.set_option('display.max_columns',None)"
   ]
  },
  {
   "cell_type": "code",
   "execution_count": null,
   "id": "63213435",
   "metadata": {
    "scrolled": false
   },
   "outputs": [],
   "source": [
    "df_ord_prod_cust_PIIdel.head()"
   ]
  },
  {
   "cell_type": "code",
   "execution_count": null,
   "id": "36106631",
   "metadata": {},
   "outputs": [],
   "source": [
    "#change category type\n",
    "df_ord_prod_cust_PIIdel['active_flag']=df_ord_prod_cust_PIIdel['active_flag'].astype('category')"
   ]
  },
  {
   "cell_type": "code",
   "execution_count": null,
   "id": "6102b661",
   "metadata": {},
   "outputs": [],
   "source": [
    "df_ord_prod_cust_PIIdel_active = df_ord_prod_cust_PIIdel[df_ord_prod_cust_PIIdel['active_flag']== 'active']"
   ]
  },
  {
   "cell_type": "code",
   "execution_count": null,
   "id": "bd95dccf",
   "metadata": {},
   "outputs": [],
   "source": [
    "df_ord_prod_cust_PIIdel_active.shape"
   ]
  },
  {
   "cell_type": "code",
   "execution_count": null,
   "id": "23f8fb96",
   "metadata": {},
   "outputs": [],
   "source": [
    "df_ord_prod_cust_PIIdel_active.info()"
   ]
  },
  {
   "cell_type": "code",
   "execution_count": null,
   "id": "cdecea96",
   "metadata": {},
   "outputs": [],
   "source": [
    "##### in comment mode to avoid saving multiple times during re-run\n",
    "df_ord_prod_cust_PIIdel_active.to_pickle(os.path.join(path,'02 Data','Prepared Data','df_ord_prod_cust_active.pkl'))"
   ]
  },
  {
   "cell_type": "markdown",
   "id": "34410a64",
   "metadata": {},
   "source": [
    "### Step 5 Customer Profiles"
   ]
  },
  {
   "cell_type": "code",
   "execution_count": null,
   "id": "c7a56b00",
   "metadata": {},
   "outputs": [],
   "source": [
    "# Creating income profile \n",
    "results_income = []\n",
    "\n",
    "for value in df_ord_prod_cust_PIIdel_active['income']:\n",
    "    if value < 18000 :\n",
    "        results_income.append('low income')\n",
    "    elif (value >= 18000) and (value <150000):\n",
    "        results_income.append('normal income')\n",
    "    else:\n",
    "        results_income.append('high income')"
   ]
  },
  {
   "cell_type": "code",
   "execution_count": null,
   "id": "495ee889",
   "metadata": {
    "scrolled": true
   },
   "outputs": [],
   "source": [
    "df_ord_prod_cust_PIIdel_active['income_flag']=results_income"
   ]
  },
  {
   "cell_type": "code",
   "execution_count": null,
   "id": "32bb0fe9",
   "metadata": {},
   "outputs": [],
   "source": [
    "df_ord_prod_cust_PIIdel_active['income_flag'].value_counts(dropna=False)"
   ]
  },
  {
   "cell_type": "code",
   "execution_count": null,
   "id": "f9823e9d",
   "metadata": {},
   "outputs": [],
   "source": [
    "# creating age profile flag using loc\n",
    "df_ord_prod_cust_PIIdel_active.loc[df_ord_prod_cust_PIIdel_active['age']<30,'age_flag'] = 'young adult'\n",
    "df_ord_prod_cust_PIIdel_active.loc[(df_ord_prod_cust_PIIdel_active['age']>=30) & (df_ord_prod_cust_PIIdel_active['age']<55) ,'age_flag'] = 'adult'\n",
    "df_ord_prod_cust_PIIdel_active.loc[df_ord_prod_cust_PIIdel_active['age']>=55,'age_flag'] = 'senior'"
   ]
  },
  {
   "cell_type": "code",
   "execution_count": null,
   "id": "037f6cc0",
   "metadata": {},
   "outputs": [],
   "source": [
    "df_ord_prod_cust_PIIdel_active['age_flag'].value_counts(dropna=False)"
   ]
  },
  {
   "cell_type": "code",
   "execution_count": null,
   "id": "556b15ba",
   "metadata": {
    "scrolled": true
   },
   "outputs": [],
   "source": [
    "# Changing datatype to 'category'\n",
    "df_ord_prod_cust_PIIdel_active['income_flag']=df_ord_prod_cust_PIIdel_active['income_flag'].astype('category')\n",
    "df_ord_prod_cust_PIIdel_active['age_flag']=df_ord_prod_cust_PIIdel_active['age_flag'].astype('category')"
   ]
  },
  {
   "cell_type": "markdown",
   "id": "17456b18",
   "metadata": {},
   "source": [
    "### Step 6 Profile visualizations"
   ]
  },
  {
   "cell_type": "markdown",
   "id": "b4d773c5",
   "metadata": {},
   "source": [
    "#### Importing libraries"
   ]
  },
  {
   "cell_type": "code",
   "execution_count": null,
   "id": "e6c62c56",
   "metadata": {},
   "outputs": [],
   "source": [
    "import seaborn as sns\n",
    "import matplotlib.pyplot as plt\n",
    "import scipy"
   ]
  },
  {
   "cell_type": "code",
   "execution_count": null,
   "id": "e5a91434",
   "metadata": {},
   "outputs": [],
   "source": [
    "# creating df with unique ids to view unique user profiles\n",
    "df_unique = df_ord_prod_cust_PIIdel_active.drop_duplicates(subset = 'user_id' )"
   ]
  },
  {
   "cell_type": "code",
   "execution_count": null,
   "id": "9ec4d340",
   "metadata": {
    "scrolled": false
   },
   "outputs": [],
   "source": [
    "# Distribution of age group\n",
    "bar_agegrp = df_unique['age_flag'].value_counts().plot.bar(figsize=(8,10))"
   ]
  },
  {
   "cell_type": "code",
   "execution_count": null,
   "id": "8c57a14e",
   "metadata": {},
   "outputs": [],
   "source": [
    "# Export figure\n",
    "bar_agegrp.figure.savefig(os.path.join(path,'04 Analysis','bar_agegrp.png'))"
   ]
  },
  {
   "cell_type": "code",
   "execution_count": null,
   "id": "b7216046",
   "metadata": {
    "scrolled": true
   },
   "outputs": [],
   "source": [
    "# Distribution of income group\n",
    "bar_incomegrp = df_unique['income_flag'].value_counts().plot.bar(figsize=(8,12))"
   ]
  },
  {
   "cell_type": "code",
   "execution_count": null,
   "id": "3efcefc2",
   "metadata": {},
   "outputs": [],
   "source": [
    "# Export figure\n",
    "bar_incomegrp.figure.savefig(os.path.join(path,'04 Analysis','bar_incomegrp.png'))"
   ]
  },
  {
   "cell_type": "code",
   "execution_count": null,
   "id": "538bf6af",
   "metadata": {
    "scrolled": true
   },
   "outputs": [],
   "source": [
    "# Distribution of marital status group\n",
    "bar_maritalstat = df_unique['marital_status'].value_counts().plot.bar(figsize=(8,13))"
   ]
  },
  {
   "cell_type": "code",
   "execution_count": null,
   "id": "a535dbb4",
   "metadata": {},
   "outputs": [],
   "source": [
    "# Export figure\n",
    "bar_maritalstat.figure.savefig(os.path.join(path,'04 Analysis','bar_maritalstat2.png'))"
   ]
  },
  {
   "cell_type": "code",
   "execution_count": null,
   "id": "d01a6b58",
   "metadata": {},
   "outputs": [],
   "source": [
    "# create cross tab for age and marital status\n",
    "crosstab_agemarital = pd.crosstab(df_unique['age_flag'], df_unique['marital_status'])\n",
    "crosstab_agemarital"
   ]
  },
  {
   "cell_type": "code",
   "execution_count": null,
   "id": "1050b292",
   "metadata": {},
   "outputs": [],
   "source": [
    "#reorder rows & columns\n",
    "crosstab_agemarital= crosstab_agemarital.reindex(['young adult', 'adult','senior'])\n",
    "crosstab_agemarital= crosstab_agemarital.reindex(['living with parents and siblings','single', 'married','divorced/widowed'], axis='columns')\n",
    "crosstab_agemarital"
   ]
  },
  {
   "cell_type": "code",
   "execution_count": null,
   "id": "952be638",
   "metadata": {
    "scrolled": false
   },
   "outputs": [],
   "source": [
    "# Distribution of age and marital\n",
    "bar_agemarital = crosstab_agemarital.plot.bar(stacked=True, figsize=(10,8))"
   ]
  },
  {
   "cell_type": "code",
   "execution_count": null,
   "id": "e150a0ed",
   "metadata": {},
   "outputs": [],
   "source": [
    "# Export figure\n",
    "bar_agemarital.figure.savefig(os.path.join(path,'04 Analysis','bar_agemarital.png'))"
   ]
  },
  {
   "cell_type": "code",
   "execution_count": null,
   "id": "2154a7cc",
   "metadata": {},
   "outputs": [],
   "source": [
    "# create cross tab for age and income group\n",
    "crosstab_ageincome = pd.crosstab(df_unique['age_flag'], df_unique['income_flag'])\n",
    "crosstab_ageincome"
   ]
  },
  {
   "cell_type": "code",
   "execution_count": null,
   "id": "858d48aa",
   "metadata": {},
   "outputs": [],
   "source": [
    "#reorder rows & columns\n",
    "crosstab_ageincome= crosstab_ageincome.reindex(['young adult', 'adult','senior'])\n",
    "crosstab_ageincome= crosstab_ageincome.reindex(['normal income','high income'], axis='columns')\n",
    "crosstab_ageincome"
   ]
  },
  {
   "cell_type": "code",
   "execution_count": null,
   "id": "d2bcf8e8",
   "metadata": {
    "scrolled": false
   },
   "outputs": [],
   "source": [
    "# Distribution of age and income group\n",
    "bar_ageincome = crosstab_ageincome.plot.bar(stacked=True, figsize=(10,8))"
   ]
  },
  {
   "cell_type": "code",
   "execution_count": null,
   "id": "190d3c9b",
   "metadata": {},
   "outputs": [],
   "source": [
    "# Export figure\n",
    "bar_ageincome.figure.savefig(os.path.join(path,'04 Analysis','bar_ageincome.png'))"
   ]
  },
  {
   "cell_type": "code",
   "execution_count": null,
   "id": "ce071925",
   "metadata": {},
   "outputs": [],
   "source": [
    "# create cross tab for marital_status & income group\n",
    "crosstab_maritalincome = pd.crosstab(df_unique['marital_status'], df_unique['income_flag'])\n",
    "crosstab_maritalincome"
   ]
  },
  {
   "cell_type": "code",
   "execution_count": null,
   "id": "90b778f5",
   "metadata": {},
   "outputs": [],
   "source": [
    "#reorder rows & columns\n",
    "crosstab_maritalincome= crosstab_maritalincome.reindex(['living with parents and siblings','single', 'married','divorced/widowed'])\n",
    "crosstab_maritalincome= crosstab_maritalincome.reindex(['normal income','high income'], axis='columns')\n",
    "crosstab_maritalincome"
   ]
  },
  {
   "cell_type": "code",
   "execution_count": null,
   "id": "9e672901",
   "metadata": {},
   "outputs": [],
   "source": [
    "# Distribution of marital_status and income group\n",
    "bar_maritalincome = crosstab_maritalincome.plot.bar(stacked=True, figsize=(10,13))"
   ]
  },
  {
   "cell_type": "code",
   "execution_count": null,
   "id": "a64d1e76",
   "metadata": {},
   "outputs": [],
   "source": [
    "# Export figure\n",
    "bar_maritalincome.figure.savefig(os.path.join(path,'04 Analysis','bar_maritalincome.png'))"
   ]
  },
  {
   "cell_type": "code",
   "execution_count": null,
   "id": "f38d8069",
   "metadata": {},
   "outputs": [],
   "source": [
    "# create cross tab for region and age\n",
    "crosstab_regionage = pd.crosstab(df_unique['region'], df_unique['age_flag'])\n",
    "crosstab_regionage"
   ]
  },
  {
   "cell_type": "code",
   "execution_count": null,
   "id": "e1a09a14",
   "metadata": {},
   "outputs": [],
   "source": [
    "#reorder rows & columns\n",
    "crosstab_regionage= crosstab_regionage.reindex(['young adult', 'adult','senior'], axis='columns')\n",
    "crosstab_regionage"
   ]
  },
  {
   "cell_type": "code",
   "execution_count": null,
   "id": "c0be89c3",
   "metadata": {},
   "outputs": [],
   "source": [
    "# Distribution of users across region\n",
    "bar_regionage = crosstab_regionage.plot.bar(stacked=True, figsize=(10,13))"
   ]
  },
  {
   "cell_type": "code",
   "execution_count": null,
   "id": "c19a41c7",
   "metadata": {},
   "outputs": [],
   "source": [
    "# Export figure\n",
    "bar_regionage.figure.savefig(os.path.join(path,'04 Analysis','bar_regionage.png'))"
   ]
  },
  {
   "cell_type": "markdown",
   "id": "9105eee7",
   "metadata": {},
   "source": [
    "#### Step 6a Exploratory Analysis on Profiles"
   ]
  },
  {
   "cell_type": "code",
   "execution_count": null,
   "id": "db6c4b32",
   "metadata": {
    "scrolled": true
   },
   "outputs": [],
   "source": [
    "# create cross tab for age group & order time of day\n",
    "crosstab_ageorderhr = pd.crosstab(df_ord_prod_cust_PIIdel_active['order_hour_of_day'], df_unique['age_flag'])\n",
    "crosstab_ageorderhr"
   ]
  },
  {
   "cell_type": "code",
   "execution_count": null,
   "id": "28860411",
   "metadata": {},
   "outputs": [],
   "source": [
    "# reorder columns\n",
    "crosstab_ageorderhr = crosstab_ageorderhr.reindex(['young adult', 'adult','senior'], axis='columns')"
   ]
  },
  {
   "cell_type": "code",
   "execution_count": null,
   "id": "d7ac1783",
   "metadata": {},
   "outputs": [],
   "source": [
    "# Distribution of age and order time of day\n",
    "line_ageorderhr = sns.lineplot(data=crosstab_ageorderhr)"
   ]
  },
  {
   "cell_type": "code",
   "execution_count": null,
   "id": "806d3342",
   "metadata": {},
   "outputs": [],
   "source": [
    "# Export figure\n",
    "line_ageorderhr.figure.savefig(os.path.join(path,'04 Analysis','line_ageorderhr.png'))"
   ]
  },
  {
   "cell_type": "code",
   "execution_count": null,
   "id": "7c6e102f",
   "metadata": {},
   "outputs": [],
   "source": [
    "# create cross tab for age group & day of week\n",
    "crosstab_ageorderday = pd.crosstab(df_ord_prod_cust_PIIdel_active['order_day_of_week'], df_unique['age_flag'])\n",
    "crosstab_ageorderday"
   ]
  },
  {
   "cell_type": "code",
   "execution_count": null,
   "id": "b9947ef0",
   "metadata": {},
   "outputs": [],
   "source": [
    "# reorder columns\n",
    "crosstab_ageorderday = crosstab_ageorderday.reindex(['young adult', 'adult','senior'], axis='columns')"
   ]
  },
  {
   "cell_type": "code",
   "execution_count": null,
   "id": "7ee48a90",
   "metadata": {},
   "outputs": [],
   "source": [
    "# Distribution of age and order time of day\n",
    "line_ageorderday = sns.lineplot(data=crosstab_ageorderday)"
   ]
  },
  {
   "cell_type": "code",
   "execution_count": null,
   "id": "a466067b",
   "metadata": {},
   "outputs": [],
   "source": [
    "# Export figure\n",
    "line_ageorderday.figure.savefig(os.path.join(path,'04 Analysis','line_ageorderday.png'))"
   ]
  },
  {
   "cell_type": "code",
   "execution_count": null,
   "id": "6c1b87a5",
   "metadata": {},
   "outputs": [],
   "source": [
    "# create crosstab for age_group & spending_flag\n",
    "crosstab_agespend = pd.crosstab(df_ord_prod_cust_PIIdel_active['age_flag'], df_unique['spending_flag'])\n",
    "crosstab_agespend"
   ]
  },
  {
   "cell_type": "code",
   "execution_count": null,
   "id": "2ee91724",
   "metadata": {},
   "outputs": [],
   "source": [
    "# reorder columns\n",
    "crosstab_agespend = crosstab_agespend.reindex(['young adult', 'adult','senior'])\n",
    "crosstab_agespend = crosstab_agespend.reindex(['low spender', 'high spender'], axis='columns')"
   ]
  },
  {
   "cell_type": "code",
   "execution_count": null,
   "id": "22effa10",
   "metadata": {},
   "outputs": [],
   "source": [
    "# Distribution of age_group & spending_flag\n",
    "bar_agespend = crosstab_agespend.plot.bar(stacked= True, figsize=(8,8),width = 0.8)"
   ]
  },
  {
   "cell_type": "code",
   "execution_count": null,
   "id": "16505fa0",
   "metadata": {},
   "outputs": [],
   "source": [
    "# Export figure\n",
    "bar_agespend.figure.savefig(os.path.join(path,'04 Analysis','bar_agespend.png'))"
   ]
  },
  {
   "cell_type": "code",
   "execution_count": null,
   "id": "17f6e393",
   "metadata": {},
   "outputs": [],
   "source": [
    "# create crosstab for marital_status & spending_flag\n",
    "crosstab_maritalspend = pd.crosstab(df_ord_prod_cust_PIIdel_active['marital_status'], df_unique['spending_flag'])\n",
    "crosstab_maritalspend"
   ]
  },
  {
   "cell_type": "code",
   "execution_count": null,
   "id": "f5cdc252",
   "metadata": {},
   "outputs": [],
   "source": [
    "#reorder rows & columns\n",
    "crosstab_maritalspend= crosstab_maritalspend.reindex(['living with parents and siblings','single', 'married','divorced/widowed'])\n",
    "crosstab_maritalspend= crosstab_maritalspend.reindex(['low spender','high spender'], axis='columns')\n",
    "crosstab_maritalspend"
   ]
  },
  {
   "cell_type": "code",
   "execution_count": null,
   "id": "a7b25312",
   "metadata": {},
   "outputs": [],
   "source": [
    "# Distribution of marital status & spending_flag\n",
    "bar_maritalspend = crosstab_maritalspend.plot.bar(stacked= True, figsize=(8,15),width = 0.6)"
   ]
  },
  {
   "cell_type": "code",
   "execution_count": null,
   "id": "79fe4e7c",
   "metadata": {},
   "outputs": [],
   "source": [
    "# Export figure\n",
    "bar_maritalspend.figure.savefig(os.path.join(path,'04 Analysis','bar_maritalspend.png'))"
   ]
  },
  {
   "cell_type": "code",
   "execution_count": null,
   "id": "4b0e7ce9",
   "metadata": {},
   "outputs": [],
   "source": [
    "# create crosstab for marital_status & order_of_week\n",
    "crosstab_maritalorderday = pd.crosstab(df_ord_prod_cust_PIIdel_active['order_day_of_week'], df_unique['marital_status'])\n",
    "crosstab_maritalorderday"
   ]
  },
  {
   "cell_type": "code",
   "execution_count": null,
   "id": "5f36e8e5",
   "metadata": {},
   "outputs": [],
   "source": [
    "#reorder rows & columns\n",
    "crosstab_maritalorderday= crosstab_maritalorderday.reindex(['living with parents and siblings','single', 'married','divorced/widowed'], axis='columns')\n",
    "crosstab_maritalorderday"
   ]
  },
  {
   "cell_type": "code",
   "execution_count": null,
   "id": "322d59bd",
   "metadata": {},
   "outputs": [],
   "source": [
    "# Distribution of age and order time of day\n",
    "line_maritalorderday = sns.lineplot(data=crosstab_maritalorderday)"
   ]
  },
  {
   "cell_type": "code",
   "execution_count": null,
   "id": "aeeb3271",
   "metadata": {},
   "outputs": [],
   "source": [
    "# Export figure\n",
    "line_maritalorderday.figure.savefig(os.path.join(path,'04 Analysis','line_maritalorderday.png'))"
   ]
  },
  {
   "cell_type": "code",
   "execution_count": null,
   "id": "035c2743",
   "metadata": {},
   "outputs": [],
   "source": [
    "# create crosstab for marital_status & frequency_flag\n",
    "crosstab_maritalfreq = pd.crosstab(df_ord_prod_cust_PIIdel_active['marital_status'], df_unique['frequency_flag'])\n",
    "crosstab_maritalfreq"
   ]
  },
  {
   "cell_type": "code",
   "execution_count": null,
   "id": "bed979a8",
   "metadata": {},
   "outputs": [],
   "source": [
    "#reorder rows & columns\n",
    "crosstab_maritalfreq= crosstab_maritalfreq.reindex(['living with parents and siblings','single', 'married','divorced/widowed'])\n",
    "crosstab_maritalfreq= crosstab_maritalfreq.reindex(['non-frequent customer','regular customer','frequent customer'], axis='columns')\n",
    "crosstab_maritalfreq"
   ]
  },
  {
   "cell_type": "code",
   "execution_count": null,
   "id": "9e20d09f",
   "metadata": {},
   "outputs": [],
   "source": [
    "crosstab_maritalfreq.to_clipboard()"
   ]
  },
  {
   "cell_type": "code",
   "execution_count": null,
   "id": "9d5a2c30",
   "metadata": {},
   "outputs": [],
   "source": [
    "# Distribution of marital status & frequency_flag\n",
    "bar_maritalfreq = crosstab_maritalfreq.plot.bar(stacked= True, figsize=(10,15),width = 0.6)"
   ]
  },
  {
   "cell_type": "code",
   "execution_count": null,
   "id": "52fdb5e9",
   "metadata": {},
   "outputs": [],
   "source": [
    "# Export figure\n",
    "bar_maritalfreq.figure.savefig(os.path.join(path,'04 Analysis','bar_maritalfreq.png'))"
   ]
  },
  {
   "cell_type": "markdown",
   "id": "364cd27e",
   "metadata": {},
   "source": [
    "### Step 7 Aggregating profiles for frequency_flag and price"
   ]
  },
  {
   "cell_type": "code",
   "execution_count": null,
   "id": "7f7691ad",
   "metadata": {},
   "outputs": [],
   "source": [
    "df_ord_prod_cust_PIIdel_active.groupby(['age_flag']).agg({'prices':['mean' , 'max', 'min']})"
   ]
  },
  {
   "cell_type": "code",
   "execution_count": null,
   "id": "d7f73d5d",
   "metadata": {},
   "outputs": [],
   "source": [
    "# fixing these values by turning it to nan using numpy\n",
    "df_ord_prod_cust_PIIdel_active.loc[df_ord_prod_cust['prices']>100, 'prices'] = np.nan"
   ]
  },
  {
   "cell_type": "code",
   "execution_count": null,
   "id": "67660762",
   "metadata": {},
   "outputs": [],
   "source": [
    "#aggregating age profile & prices\n",
    "df_ord_prod_cust_PIIdel_active.groupby(['age_flag']).agg({'prices':['mean' , 'max', 'min']})"
   ]
  },
  {
   "cell_type": "code",
   "execution_count": null,
   "id": "d844527a",
   "metadata": {},
   "outputs": [],
   "source": [
    "#aggregating age profile & frequency\n",
    "df_ord_prod_cust_PIIdel_active.groupby(['age_flag']).agg({'order_number':['mean' , 'max', 'min']})"
   ]
  },
  {
   "cell_type": "code",
   "execution_count": null,
   "id": "3add1745",
   "metadata": {},
   "outputs": [],
   "source": [
    "#aggregating marital profile & prices\n",
    "df_ord_prod_cust_PIIdel_active.groupby(['marital_status']).agg({'prices':['mean' , 'max', 'min']})"
   ]
  },
  {
   "cell_type": "code",
   "execution_count": null,
   "id": "69b331a6",
   "metadata": {},
   "outputs": [],
   "source": [
    "#aggregating marital profile & frequency\n",
    "df_ord_prod_cust_PIIdel_active.groupby(['marital_status']).agg({'order_number':['mean' , 'max', 'min']})"
   ]
  },
  {
   "cell_type": "code",
   "execution_count": null,
   "id": "42a29424",
   "metadata": {},
   "outputs": [],
   "source": [
    "#aggregating income profile & prices\n",
    "df_ord_prod_cust_PIIdel_active.groupby(['income_flag']).agg({'prices':['mean' , 'max', 'min']})"
   ]
  },
  {
   "cell_type": "code",
   "execution_count": null,
   "id": "0b07a362",
   "metadata": {},
   "outputs": [],
   "source": [
    "#aggregating income profile & frequency\n",
    "df_ord_prod_cust_PIIdel_active.groupby(['income_flag']).agg({'order_number':['mean' , 'max', 'min']})"
   ]
  },
  {
   "cell_type": "markdown",
   "id": "31bc149f",
   "metadata": {},
   "source": [
    "### Step 8: Comparing customer profile with region and department"
   ]
  },
  {
   "cell_type": "code",
   "execution_count": null,
   "id": "f5a1a9fd",
   "metadata": {},
   "outputs": [],
   "source": [
    "#getting department data\n",
    "df_dept = pd.read_csv(os.path.join(path,'02 Data', 'Prepared Data', 'departments_wrangled.csv' ))\n",
    "df_dept"
   ]
  },
  {
   "cell_type": "code",
   "execution_count": null,
   "id": "0b27db82",
   "metadata": {},
   "outputs": [],
   "source": [
    "#Turning df_dept into data dictionary\n",
    "dept_zipped=zip(df_dept['department_id'], df_dept['department'])\n",
    "dept_dict=dict(dept_zipped)\n",
    "dept_dict"
   ]
  },
  {
   "cell_type": "code",
   "execution_count": null,
   "id": "c065a24c",
   "metadata": {
    "scrolled": true
   },
   "outputs": [],
   "source": [
    "#Mapping department names to department_id in dataframe\n",
    "df_ord_prod_cust_PIIdel_active['department'] = df_ord_prod_cust_PIIdel_active['department_id'].map(dept_dict)\n",
    "df_ord_prod_cust_PIIdel_active.head()"
   ]
  },
  {
   "cell_type": "code",
   "execution_count": null,
   "id": "be3d1f05",
   "metadata": {
    "scrolled": true
   },
   "outputs": [],
   "source": [
    "# comparing age profile and department goods\n",
    "crosstab_agedept = pd.crosstab(df_ord_prod_cust_PIIdel_active['department'],df_ord_prod_cust_PIIdel_active['age_flag'])\n",
    "crosstab_agedept"
   ]
  },
  {
   "cell_type": "code",
   "execution_count": null,
   "id": "10480b35",
   "metadata": {},
   "outputs": [],
   "source": [
    "# reorder columns\n",
    "crosstab_agedept = crosstab_agedept.reindex(['young adult', 'adult','senior'], axis='columns')"
   ]
  },
  {
   "cell_type": "code",
   "execution_count": null,
   "id": "32e9186b",
   "metadata": {},
   "outputs": [],
   "source": [
    "# Distribution of age group and department_id\n",
    "bar_agedept = crosstab_agedept.plot.bar(stacked=False,figsize=(12,10),width = 0.8)"
   ]
  },
  {
   "cell_type": "markdown",
   "id": "0686d1c5",
   "metadata": {},
   "source": [
    "Produce and dairy eggs are most popular among all age groups"
   ]
  },
  {
   "cell_type": "code",
   "execution_count": null,
   "id": "d7822a60",
   "metadata": {},
   "outputs": [],
   "source": [
    "# Export figure\n",
    "bar_agedept.figure.savefig(os.path.join(path,'04 Analysis','bar_agedept.png'))"
   ]
  },
  {
   "cell_type": "code",
   "execution_count": null,
   "id": "aeec33e5",
   "metadata": {},
   "outputs": [],
   "source": [
    "# comparing marital status profile and department goods\n",
    "crosstab_maritaldept = pd.crosstab(df_ord_prod_cust_PIIdel_active['department'],df_ord_prod_cust_PIIdel_active['marital_status'])\n",
    "crosstab_maritaldept"
   ]
  },
  {
   "cell_type": "code",
   "execution_count": null,
   "id": "eb2a044b",
   "metadata": {},
   "outputs": [],
   "source": [
    "# reorder columns\n",
    "crosstab_maritaldept = crosstab_maritaldept.reindex(['living with parents and siblings','single', 'married','divorced/widowed'], axis='columns')"
   ]
  },
  {
   "cell_type": "code",
   "execution_count": null,
   "id": "c086be5c",
   "metadata": {},
   "outputs": [],
   "source": [
    "# Distribution of age group and department_id\n",
    "bar_maritaldept = crosstab_maritaldept.plot.bar(stacked=False, figsize=(16,10), width=0.8)"
   ]
  },
  {
   "cell_type": "code",
   "execution_count": null,
   "id": "88e22315",
   "metadata": {},
   "outputs": [],
   "source": [
    "# Export figure\n",
    "bar_maritaldept.figure.savefig(os.path.join(path,'04 Analysis','bar_maritaldept.png'))"
   ]
  },
  {
   "cell_type": "code",
   "execution_count": null,
   "id": "57a81b82",
   "metadata": {},
   "outputs": [],
   "source": [
    "# comparing region and department goods\n",
    "crosstab_regionspend = pd.crosstab(df_ord_prod_cust_PIIdel_active['region'],df_ord_prod_cust_PIIdel_active['spending_flag'])\n",
    "crosstab_regionspend"
   ]
  },
  {
   "cell_type": "code",
   "execution_count": null,
   "id": "db842f54",
   "metadata": {},
   "outputs": [],
   "source": [
    "# reorder columns\n",
    "crosstab_regionspend = crosstab_regionspend.reindex(['low spender', 'high spender'], axis='columns')"
   ]
  },
  {
   "cell_type": "code",
   "execution_count": null,
   "id": "f4ca82d5",
   "metadata": {},
   "outputs": [],
   "source": [
    "# Distribution of spending and region\n",
    "bar_regionspend = crosstab_regionspend.plot.bar(stacked=True, width=0.8)"
   ]
  },
  {
   "cell_type": "code",
   "execution_count": null,
   "id": "3aa67d9f",
   "metadata": {},
   "outputs": [],
   "source": [
    "# Export figure\n",
    "bar_regionspend.figure.savefig(os.path.join(path,'04 Analysis','bar_regionspend.png'))"
   ]
  },
  {
   "cell_type": "code",
   "execution_count": null,
   "id": "4329bcfe",
   "metadata": {},
   "outputs": [],
   "source": [
    "# comparing region and order hod\n",
    "crosstab_regionorderhr = pd.crosstab(df_ord_prod_cust_PIIdel_active['order_hour_of_day'],df_ord_prod_cust_PIIdel_active['region'])\n",
    "crosstab_regionorderhr"
   ]
  },
  {
   "cell_type": "code",
   "execution_count": null,
   "id": "a26bd0d2",
   "metadata": {},
   "outputs": [],
   "source": [
    "# Distribution of order of day and region\n",
    "line_regionorderhr = sns.lineplot(data=crosstab_regionorderhr)"
   ]
  },
  {
   "cell_type": "code",
   "execution_count": null,
   "id": "77674538",
   "metadata": {},
   "outputs": [],
   "source": [
    "# Export figure\n",
    "line_regionorderhr.figure.savefig(os.path.join(path,'04 Analysis','line_regionorderhr.png'))"
   ]
  },
  {
   "cell_type": "code",
   "execution_count": null,
   "id": "1e8ae234",
   "metadata": {},
   "outputs": [],
   "source": [
    "# comparing region and order dow\n",
    "crosstab_regionorderday = pd.crosstab(df_ord_prod_cust_PIIdel_active['order_day_of_week'],df_ord_prod_cust_PIIdel_active['region'])\n",
    "crosstab_regionorderday"
   ]
  },
  {
   "cell_type": "code",
   "execution_count": null,
   "id": "95a7642d",
   "metadata": {},
   "outputs": [],
   "source": [
    "# Distribution of dept and region\n",
    "line_regionorderday = sns.lineplot(data=crosstab_regionorderday)\n"
   ]
  },
  {
   "cell_type": "code",
   "execution_count": null,
   "id": "7bc99ad4",
   "metadata": {},
   "outputs": [],
   "source": [
    "# Export figure\n",
    "line_regionorderday.figure.savefig(os.path.join(path,'04 Analysis','line_regionorderday.png'))"
   ]
  },
  {
   "cell_type": "code",
   "execution_count": null,
   "id": "44dd515e",
   "metadata": {},
   "outputs": [],
   "source": [
    "# comparing dept and region\n",
    "crosstab_regiondept = pd.crosstab(df_ord_prod_cust_PIIdel_active['department'],df_ord_prod_cust_PIIdel_active['region'])\n",
    "crosstab_regiondept"
   ]
  },
  {
   "cell_type": "code",
   "execution_count": null,
   "id": "78f6a82d",
   "metadata": {},
   "outputs": [],
   "source": [
    "# Distribution of order of day and region\n",
    "plt.figure(figsize=(25,7))\n",
    "line_regiondept = sns.lineplot(data=crosstab_regiondept)\n"
   ]
  },
  {
   "cell_type": "code",
   "execution_count": null,
   "id": "83d36d86",
   "metadata": {},
   "outputs": [],
   "source": [
    "# Export fig\n",
    "line_regiondept.figure.savefig(os.path.join(path,'04 Analysis','line_regiondept.png'))"
   ]
  },
  {
   "cell_type": "markdown",
   "id": "af12dff3",
   "metadata": {},
   "source": [
    "### Step 9 Other required charts"
   ]
  },
  {
   "cell_type": "code",
   "execution_count": null,
   "id": "27227949",
   "metadata": {},
   "outputs": [],
   "source": [
    "# getting info on price ranges \n",
    "bar_pricerange = df_ord_prod_cust_PIIdel_active['price_range_loc'].value_counts().plot.bar(figsize = (8,6))\n",
    "plt.xticks(rotation = 0)"
   ]
  },
  {
   "cell_type": "code",
   "execution_count": null,
   "id": "716f6726",
   "metadata": {},
   "outputs": [],
   "source": [
    "# Export fig\n",
    "bar_pricerange.figure.savefig(os.path.join(path,'04 Analysis','bar_pricerange.png'))"
   ]
  },
  {
   "cell_type": "code",
   "execution_count": null,
   "id": "219e4d32",
   "metadata": {},
   "outputs": [],
   "source": [
    "# creating chart for loyalty count\n",
    "bar_loyalty = df_unique['loyalty_flag'].value_counts().plot.bar(figsize = (8,6))\n",
    "plt.xticks(rotation = 0)\n",
    "plt.show()"
   ]
  },
  {
   "cell_type": "code",
   "execution_count": null,
   "id": "076746d2",
   "metadata": {},
   "outputs": [],
   "source": [
    "# Export fig\n",
    "bar_loyalty.figure.savefig(os.path.join(path,'04 Analysis','bar_loyalty.png'))"
   ]
  },
  {
   "cell_type": "code",
   "execution_count": null,
   "id": "2b2d86cb",
   "metadata": {},
   "outputs": [],
   "source": [
    "# comparing loyalty and age group\n",
    "crosstab_loyaltyage = pd.crosstab(df_unique['loyalty_flag'],df_unique['age_flag'])\n",
    "crosstab_loyaltyage"
   ]
  },
  {
   "cell_type": "code",
   "execution_count": null,
   "id": "a3c22636",
   "metadata": {},
   "outputs": [],
   "source": [
    "# #reorder rows & columns\n",
    "crosstab_loyaltyage= crosstab_loyaltyage.reindex(['young adult', 'adult','senior'],axis='columns')\n",
    "crosstab_loyaltyage= crosstab_loyaltyage.reindex(['new customer','regular customer', 'loyal customer'])"
   ]
  },
  {
   "cell_type": "code",
   "execution_count": 157,
   "id": "c2623e31",
   "metadata": {},
   "outputs": [
    {
     "data": {
      "image/png": "[encoded data removed]",
      "text/plain": [
       "<Figure size 432x288 with 1 Axes>"
      ]
     },
     "metadata": {
      "needs_background": "light"
     },
     "output_type": "display_data"
    }
   ],
   "source": [
    "line_loyaltyage = sns.lineplot(data=crosstab_loyaltyage)"
   ]
  },
  {
   "cell_type": "code",
   "execution_count": null,
   "id": "8c55311c",
   "metadata": {},
   "outputs": [],
   "source": [
    "# Export fig\n",
    "line_loyaltyage.figure.savefig(os.path.join(path,'04 Analysis','line_loyaltyage.png'))"
   ]
  },
  {
   "cell_type": "code",
   "execution_count": 160,
   "id": "36b01ebc",
   "metadata": {},
   "outputs": [
    {
     "data": {
      "text/html": [
       "<div>\n",
       "<style scoped>\n",
       "    .dataframe tbody tr th:only-of-type {\n",
       "        vertical-align: middle;\n",
       "    }\n",
       "\n",
       "    .dataframe tbody tr th {\n",
       "        vertical-align: top;\n",
       "    }\n",
       "\n",
       "    .dataframe thead th {\n",
       "        text-align: right;\n",
       "    }\n",
       "</style>\n",
       "<table border=\"1\" class=\"dataframe\">\n",
       "  <thead>\n",
       "    <tr style=\"text-align: right;\">\n",
       "      <th>marital_status</th>\n",
       "      <th>divorced/widowed</th>\n",
       "      <th>living with parents and siblings</th>\n",
       "      <th>married</th>\n",
       "      <th>single</th>\n",
       "    </tr>\n",
       "    <tr>\n",
       "      <th>loyalty_flag</th>\n",
       "      <th></th>\n",
       "      <th></th>\n",
       "      <th></th>\n",
       "      <th></th>\n",
       "    </tr>\n",
       "  </thead>\n",
       "  <tbody>\n",
       "    <tr>\n",
       "      <th>loyal customer</th>\n",
       "      <td>1452</td>\n",
       "      <td>810</td>\n",
       "      <td>11940</td>\n",
       "      <td>2815</td>\n",
       "    </tr>\n",
       "    <tr>\n",
       "      <th>new customer</th>\n",
       "      <td>5781</td>\n",
       "      <td>3162</td>\n",
       "      <td>48332</td>\n",
       "      <td>11475</td>\n",
       "    </tr>\n",
       "    <tr>\n",
       "      <th>regular customer</th>\n",
       "      <td>6598</td>\n",
       "      <td>3636</td>\n",
       "      <td>54024</td>\n",
       "      <td>12606</td>\n",
       "    </tr>\n",
       "  </tbody>\n",
       "</table>\n",
       "</div>"
      ],
      "text/plain": [
       "marital_status    divorced/widowed  living with parents and siblings  married  \\\n",
       "loyalty_flag                                                                    \n",
       "loyal customer                1452                               810    11940   \n",
       "new customer                  5781                              3162    48332   \n",
       "regular customer              6598                              3636    54024   \n",
       "\n",
       "marital_status    single  \n",
       "loyalty_flag              \n",
       "loyal customer      2815  \n",
       "new customer       11475  \n",
       "regular customer   12606  "
      ]
     },
     "execution_count": 160,
     "metadata": {},
     "output_type": "execute_result"
    }
   ],
   "source": [
    "# comparing loyalty and marital status\n",
    "crosstab_loyaltymarital = pd.crosstab(df_unique['loyalty_flag'],df_unique['marital_status'])\n",
    "crosstab_loyaltymarital"
   ]
  },
  {
   "cell_type": "code",
   "execution_count": 161,
   "id": "4fdda4ed",
   "metadata": {},
   "outputs": [],
   "source": [
    "# #reorder rows & columns\n",
    "crosstab_loyaltymarital= crosstab_loyaltymarital.reindex(['living with parents and siblings','single', 'married','divorced/widowed'],axis='columns')\n",
    "crosstab_loyaltymarital= crosstab_loyaltymarital.reindex(['new customer','regular customer', 'loyal customer'])"
   ]
  },
  {
   "cell_type": "code",
   "execution_count": 162,
   "id": "0f77792a",
   "metadata": {},
   "outputs": [
    {
     "data": {
      "image/png": "[encoded data removed]",
      "text/plain": [
       "<Figure size 432x288 with 1 Axes>"
      ]
     },
     "metadata": {
      "needs_background": "light"
     },
     "output_type": "display_data"
    }
   ],
   "source": [
    "line_loyaltymarital = sns.lineplot(data=crosstab_loyaltymarital)"
   ]
  },
  {
   "cell_type": "code",
   "execution_count": 163,
   "id": "c2ad5d8d",
   "metadata": {},
   "outputs": [],
   "source": [
    "# Export fig\n",
    "line_loyaltymarital.figure.savefig(os.path.join(path,'04 Analysis','line_loyaltymarital.png'))"
   ]
  },
  {
   "cell_type": "code",
   "execution_count": null,
   "id": "088b5f84",
   "metadata": {},
   "outputs": [],
   "source": [
    "# comparing loyalty and spending_flag\n",
    "crosstab_loyaltyspend = pd.crosstab(df_ord_prod_cust_PIIdel_active['loyalty_flag'],df_ord_prod_cust_PIIdel_active['spending_flag'])\n",
    "crosstab_loyaltyspend"
   ]
  },
  {
   "cell_type": "code",
   "execution_count": null,
   "id": "58d3ead2",
   "metadata": {},
   "outputs": [],
   "source": [
    "#reorder rows & columns\n",
    "crosstab_loyaltyspend= crosstab_loyaltyspend.reindex(['new customer','regular customer', 'loyal customer'])\n",
    "crosstab_loyaltyspend= crosstab_loyaltyspend.reindex(['low spender','high spender'], axis='columns')\n",
    "crosstab_loyaltyspend"
   ]
  },
  {
   "cell_type": "code",
   "execution_count": null,
   "id": "1bc3b4d3",
   "metadata": {},
   "outputs": [],
   "source": [
    "# creating chart for loyalty count\n",
    "bar_loyaltyspend = crosstab_loyaltyspend.plot.bar(figsize = (8,6))\n",
    "plt.xticks(rotation = 0)\n",
    "plt.show()"
   ]
  },
  {
   "cell_type": "code",
   "execution_count": null,
   "id": "0b6c718b",
   "metadata": {},
   "outputs": [],
   "source": [
    "# Export fig\n",
    "bar_loyaltyspend.figure.savefig(os.path.join(path,'04 Analysis','bar_loyaltyspend.png'))"
   ]
  },
  {
   "cell_type": "code",
   "execution_count": null,
   "id": "6e5395f0",
   "metadata": {},
   "outputs": [],
   "source": [
    "# comparing loyalty and order hour\n",
    "crosstab_loyaltyorderhr = pd.crosstab(df_ord_prod_cust_PIIdel_active['order_hour_of_day'],df_ord_prod_cust_PIIdel_active['loyalty_flag'])\n",
    "crosstab_loyaltyorderhr"
   ]
  },
  {
   "cell_type": "code",
   "execution_count": null,
   "id": "7deeb58e",
   "metadata": {},
   "outputs": [],
   "source": [
    "# reorder rows & columns\n",
    "crosstab_loyaltyorderhr= crosstab_loyaltyorderhr.reindex(['new customer','regular customer', 'loyal customer'],axis='columns')"
   ]
  },
  {
   "cell_type": "code",
   "execution_count": null,
   "id": "bf9a175b",
   "metadata": {},
   "outputs": [],
   "source": [
    "line_loyaltyorderhr = sns.lineplot(data=crosstab_loyaltyorderhr)"
   ]
  },
  {
   "cell_type": "code",
   "execution_count": null,
   "id": "272945d3",
   "metadata": {},
   "outputs": [],
   "source": [
    "# Export fig\n",
    "line_loyaltyorderhr.figure.savefig(os.path.join(path,'04 Analysis','line_loyaltyorderhr.png'))"
   ]
  },
  {
   "cell_type": "code",
   "execution_count": null,
   "id": "bdba830a",
   "metadata": {},
   "outputs": [],
   "source": [
    "# comparing loyalty and order day\n",
    "crosstab_loyaltyorderday = pd.crosstab(df_ord_prod_cust_PIIdel_active['order_day_of_week'],df_ord_prod_cust_PIIdel_active['loyalty_flag'])\n",
    "crosstab_loyaltyorderday"
   ]
  },
  {
   "cell_type": "code",
   "execution_count": null,
   "id": "ad17483a",
   "metadata": {},
   "outputs": [],
   "source": [
    "#reorder rows & columns\n",
    "crosstab_loyaltyorderday= crosstab_loyaltyorderday.reindex(['new customer','regular customer', 'loyal customer'],axis='columns')"
   ]
  },
  {
   "cell_type": "code",
   "execution_count": null,
   "id": "9242129f",
   "metadata": {},
   "outputs": [],
   "source": [
    "line_loyaltyorderday = sns.lineplot(data=crosstab_loyaltyorderday)"
   ]
  },
  {
   "cell_type": "code",
   "execution_count": null,
   "id": "53df8f8e",
   "metadata": {},
   "outputs": [],
   "source": [
    "# Export fig\n",
    "line_loyaltyorderday.figure.savefig(os.path.join(path,'04 Analysis','line_loyaltyorderday.png'))"
   ]
  },
  {
   "cell_type": "code",
   "execution_count": null,
   "id": "47fc8df2",
   "metadata": {},
   "outputs": [],
   "source": [
    "# comparing income and order frequency\n",
    "crosstab_incomefreq = pd.crosstab(df_ord_prod_cust_PIIdel_active['income_flag'],df_ord_prod_cust_PIIdel_active['frequency_flag'])\n",
    "crosstab_incomefreq"
   ]
  },
  {
   "cell_type": "code",
   "execution_count": null,
   "id": "3185e235",
   "metadata": {},
   "outputs": [],
   "source": [
    "#reorder rows & columns\n",
    "crosstab_incomefreq= crosstab_incomefreq.reindex(['normal income','high income'])\n",
    "crosstab_incomefreq= crosstab_incomefreq.reindex(['non-frequent customer','regular customer','frequent customer'], axis='columns')"
   ]
  },
  {
   "cell_type": "code",
   "execution_count": null,
   "id": "44ca5af6",
   "metadata": {},
   "outputs": [],
   "source": [
    "bar_incomefreq = crosstab_incomefreq.plot.bar()\n",
    "plt.xticks(rotation = 0)\n",
    "plt.show()"
   ]
  },
  {
   "cell_type": "code",
   "execution_count": null,
   "id": "6c425077",
   "metadata": {},
   "outputs": [],
   "source": [
    "# Export fig\n",
    "bar_incomefreq.figure.savefig(os.path.join(path,'04 Analysis','bar_incomefreq.png'))"
   ]
  },
  {
   "cell_type": "code",
   "execution_count": null,
   "id": "8e2cf3b6",
   "metadata": {},
   "outputs": [],
   "source": [
    "# comparing income and spending habit\n",
    "crosstab_incomespend = pd.crosstab(df_ord_prod_cust_PIIdel_active['income_flag'],df_ord_prod_cust_PIIdel_active['spending_flag'])\n",
    "crosstab_incomespend"
   ]
  },
  {
   "cell_type": "code",
   "execution_count": null,
   "id": "cb24cdd5",
   "metadata": {},
   "outputs": [],
   "source": [
    "#reorder rows & columns\n",
    "crosstab_incomespend= crosstab_incomespend.reindex(['normal income','high income'])\n",
    "crosstab_incomespend= crosstab_incomespend.reindex(['low spender','high spender'], axis='columns')"
   ]
  },
  {
   "cell_type": "code",
   "execution_count": null,
   "id": "ac7bd6df",
   "metadata": {},
   "outputs": [],
   "source": [
    "bar_incomespend = crosstab_incomespend.plot.bar()\n",
    "plt.xticks(rotation = 0)\n",
    "plt.show()"
   ]
  },
  {
   "cell_type": "code",
   "execution_count": null,
   "id": "1175a25d",
   "metadata": {},
   "outputs": [],
   "source": [
    "# Export fig\n",
    "bar_incomespend.figure.savefig(os.path.join(path,'04 Analysis','bar_incomespend.png'))"
   ]
  },
  {
   "cell_type": "code",
   "execution_count": null,
   "id": "a6bf58a7",
   "metadata": {},
   "outputs": [],
   "source": []
  }
 ],
 "metadata": {
  "kernelspec": {
   "display_name": "Python 3",
   "language": "python",
   "name": "python3"
  },
  "language_info": {
   "codemirror_mode": {
    "name": "ipython",
    "version": 3
   },
   "file_extension": ".py",
   "mimetype": "text/x-python",
   "name": "python",
   "nbconvert_exporter": "python",
   "pygments_lexer": "ipython3",
   "version": "3.9.12"
  }
 },
 "nbformat": 4,
 "nbformat_minor": 5
}
