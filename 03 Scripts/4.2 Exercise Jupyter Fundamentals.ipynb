{
 "cells": [
  {
   "cell_type": "markdown",
   "id": "1de6d2d4",
   "metadata": {},
   "source": [
    "# 01 Importing Libraries"
   ]
  },
  {
   "cell_type": "code",
   "execution_count": 1,
   "id": "c438ce7e",
   "metadata": {},
   "outputs": [],
   "source": [
    "#Importing Libraries\n",
    "import pandas as pd\n",
    "import numpy as np\n",
    "import os"
   ]
  },
  {
   "cell_type": "markdown",
   "id": "afc3c70a",
   "metadata": {},
   "source": [
    "# 02 Python Data Types"
   ]
  },
  {
   "cell_type": "code",
   "execution_count": 6,
   "id": "5532ae24",
   "metadata": {},
   "outputs": [],
   "source": [
    "v=20"
   ]
  },
  {
   "cell_type": "code",
   "execution_count": 5,
   "id": "b7a95b14",
   "metadata": {},
   "outputs": [],
   "source": [
    "w=80"
   ]
  },
  {
   "cell_type": "code",
   "execution_count": 2,
   "id": "152a2d78",
   "metadata": {},
   "outputs": [],
   "source": [
    "x=10"
   ]
  },
  {
   "cell_type": "code",
   "execution_count": 3,
   "id": "71b80a24",
   "metadata": {},
   "outputs": [],
   "source": [
    "y=90"
   ]
  },
  {
   "cell_type": "code",
   "execution_count": 4,
   "id": "d692fce1",
   "metadata": {},
   "outputs": [],
   "source": [
    "z=110"
   ]
  },
  {
   "cell_type": "code",
   "execution_count": 7,
   "id": "7f5c37ae",
   "metadata": {},
   "outputs": [
    {
     "data": {
      "text/plain": [
       "100"
      ]
     },
     "execution_count": 7,
     "metadata": {},
     "output_type": "execute_result"
    }
   ],
   "source": [
    "# Step 7a\n",
    "v+w"
   ]
  },
  {
   "cell_type": "code",
   "execution_count": 8,
   "id": "29438d07",
   "metadata": {},
   "outputs": [
    {
     "data": {
      "text/plain": [
       "100"
      ]
     },
     "execution_count": 8,
     "metadata": {},
     "output_type": "execute_result"
    }
   ],
   "source": [
    "# Step 7b\n",
    "x+y"
   ]
  },
  {
   "cell_type": "code",
   "execution_count": 9,
   "id": "d469ca29",
   "metadata": {},
   "outputs": [
    {
     "data": {
      "text/plain": [
       "100"
      ]
     },
     "execution_count": 9,
     "metadata": {},
     "output_type": "execute_result"
    }
   ],
   "source": [
    "#Step 7c\n",
    "z-x"
   ]
  },
  {
   "cell_type": "code",
   "execution_count": 10,
   "id": "a64c0e8b",
   "metadata": {},
   "outputs": [],
   "source": [
    "a=3.15"
   ]
  },
  {
   "cell_type": "code",
   "execution_count": 11,
   "id": "68292cd5",
   "metadata": {},
   "outputs": [],
   "source": [
    "b=5.98"
   ]
  },
  {
   "cell_type": "code",
   "execution_count": 12,
   "id": "2b3aa7f4",
   "metadata": {},
   "outputs": [
    {
     "data": {
      "text/plain": [
       "1.8984126984126986"
      ]
     },
     "execution_count": 12,
     "metadata": {},
     "output_type": "execute_result"
    }
   ],
   "source": [
    "# Step 8\n",
    "b/a"
   ]
  },
  {
   "cell_type": "code",
   "execution_count": 17,
   "id": "a664b6c2",
   "metadata": {},
   "outputs": [],
   "source": [
    "# Step 9a\n",
    "c = 'Happy '"
   ]
  },
  {
   "cell_type": "code",
   "execution_count": 14,
   "id": "a4f42455",
   "metadata": {},
   "outputs": [],
   "source": [
    "# Step 9b\n",
    "d = 'Day!'"
   ]
  },
  {
   "cell_type": "code",
   "execution_count": 18,
   "id": "7e1a83f1",
   "metadata": {},
   "outputs": [],
   "source": [
    "#Step 9c\n",
    "e= 'Sunny '"
   ]
  },
  {
   "cell_type": "code",
   "execution_count": 19,
   "id": "9ce7aa11",
   "metadata": {},
   "outputs": [
    {
     "data": {
      "text/plain": [
       "'Happy Day!'"
      ]
     },
     "execution_count": 19,
     "metadata": {},
     "output_type": "execute_result"
    }
   ],
   "source": [
    "# Step 10a\n",
    "c+d"
   ]
  },
  {
   "cell_type": "code",
   "execution_count": 20,
   "id": "d824fca7",
   "metadata": {},
   "outputs": [
    {
     "data": {
      "text/plain": [
       "'Happy Sunny Day!'"
      ]
     },
     "execution_count": 20,
     "metadata": {},
     "output_type": "execute_result"
    }
   ],
   "source": [
    "# Step 10b\n",
    "c+e+d"
   ]
  },
  {
   "cell_type": "markdown",
   "id": "e0d6edc0",
   "metadata": {},
   "source": [
    "# Bonus Task"
   ]
  },
  {
   "cell_type": "code",
   "execution_count": 21,
   "id": "b021dbe4",
   "metadata": {},
   "outputs": [
    {
     "data": {
      "text/plain": [
       "'Happy Happy Happy Happy Happy Happy Happy Happy Happy Happy Happy Happy Happy Happy Happy Happy Happy Happy Happy Happy Happy Happy Happy Happy Happy Happy Happy Happy Happy Happy Happy Happy Happy Happy Happy Happy Happy Happy Happy Happy Happy Happy Happy Happy Happy Happy Happy Happy Happy Happy Happy Happy Happy Happy Happy Happy Happy Happy Happy Happy Happy Happy Happy Happy Happy Happy Happy Happy Happy Happy Happy Happy Happy Happy Happy Happy Happy Happy Happy Happy Happy Happy Happy Happy Happy Happy Happy Happy Happy Happy Happy Happy Happy Happy Happy Happy Happy Happy Happy Happy '"
      ]
     },
     "execution_count": 21,
     "metadata": {},
     "output_type": "execute_result"
    }
   ],
   "source": [
    "100 * c"
   ]
  }
 ],
 "metadata": {
  "kernelspec": {
   "display_name": "Python 3",
   "language": "python",
   "name": "python3"
  },
  "language_info": {
   "codemirror_mode": {
    "name": "ipython",
    "version": 3
   },
   "file_extension": ".py",
   "mimetype": "text/x-python",
   "name": "python",
   "nbconvert_exporter": "python",
   "pygments_lexer": "ipython3",
   "version": "3.9.12"
  }
 },
 "nbformat": 4,
 "nbformat_minor": 5
}
